{
 "cells": [
  {
   "cell_type": "code",
   "execution_count": 11,
   "id": "33ed3d75",
   "metadata": {},
   "outputs": [],
   "source": [
    "import numpy as np\n",
    "import pandas as pd\n",
    "import seaborn as sns\n",
    "import matplotlib.pyplot as plt"
   ]
  },
  {
   "cell_type": "code",
   "execution_count": 12,
   "id": "379cc403",
   "metadata": {},
   "outputs": [
    {
     "data": {
      "text/html": [
       "<div>\n",
       "<style scoped>\n",
       "    .dataframe tbody tr th:only-of-type {\n",
       "        vertical-align: middle;\n",
       "    }\n",
       "\n",
       "    .dataframe tbody tr th {\n",
       "        vertical-align: top;\n",
       "    }\n",
       "\n",
       "    .dataframe thead th {\n",
       "        text-align: right;\n",
       "    }\n",
       "</style>\n",
       "<table border=\"1\" class=\"dataframe\">\n",
       "  <thead>\n",
       "    <tr style=\"text-align: right;\">\n",
       "      <th></th>\n",
       "      <th>Transaction ID</th>\n",
       "      <th>Date of Travel</th>\n",
       "      <th>Company</th>\n",
       "      <th>City</th>\n",
       "      <th>KM Travelled</th>\n",
       "      <th>Price Charged</th>\n",
       "      <th>Cost of Trip</th>\n",
       "      <th>Year</th>\n",
       "      <th>Month</th>\n",
       "    </tr>\n",
       "  </thead>\n",
       "  <tbody>\n",
       "    <tr>\n",
       "      <th>0</th>\n",
       "      <td>10000011</td>\n",
       "      <td>08-01-2016</td>\n",
       "      <td>Pink Cab</td>\n",
       "      <td>ATLANTA GA</td>\n",
       "      <td>30.45</td>\n",
       "      <td>370.95</td>\n",
       "      <td>313.635</td>\n",
       "      <td>2016</td>\n",
       "      <td>1</td>\n",
       "    </tr>\n",
       "    <tr>\n",
       "      <th>1</th>\n",
       "      <td>10000012</td>\n",
       "      <td>06-01-2016</td>\n",
       "      <td>Pink Cab</td>\n",
       "      <td>ATLANTA GA</td>\n",
       "      <td>28.62</td>\n",
       "      <td>358.52</td>\n",
       "      <td>334.854</td>\n",
       "      <td>2016</td>\n",
       "      <td>1</td>\n",
       "    </tr>\n",
       "    <tr>\n",
       "      <th>2</th>\n",
       "      <td>10000013</td>\n",
       "      <td>02-01-2016</td>\n",
       "      <td>Pink Cab</td>\n",
       "      <td>ATLANTA GA</td>\n",
       "      <td>9.04</td>\n",
       "      <td>125.20</td>\n",
       "      <td>97.632</td>\n",
       "      <td>2016</td>\n",
       "      <td>1</td>\n",
       "    </tr>\n",
       "    <tr>\n",
       "      <th>3</th>\n",
       "      <td>10000014</td>\n",
       "      <td>07-01-2016</td>\n",
       "      <td>Pink Cab</td>\n",
       "      <td>ATLANTA GA</td>\n",
       "      <td>33.17</td>\n",
       "      <td>377.40</td>\n",
       "      <td>351.602</td>\n",
       "      <td>2016</td>\n",
       "      <td>1</td>\n",
       "    </tr>\n",
       "    <tr>\n",
       "      <th>4</th>\n",
       "      <td>10000015</td>\n",
       "      <td>03-01-2016</td>\n",
       "      <td>Pink Cab</td>\n",
       "      <td>ATLANTA GA</td>\n",
       "      <td>8.73</td>\n",
       "      <td>114.62</td>\n",
       "      <td>97.776</td>\n",
       "      <td>2016</td>\n",
       "      <td>1</td>\n",
       "    </tr>\n",
       "  </tbody>\n",
       "</table>\n",
       "</div>"
      ],
      "text/plain": [
       "   Transaction ID Date of Travel   Company        City  KM Travelled  \\\n",
       "0        10000011     08-01-2016  Pink Cab  ATLANTA GA         30.45   \n",
       "1        10000012     06-01-2016  Pink Cab  ATLANTA GA         28.62   \n",
       "2        10000013     02-01-2016  Pink Cab  ATLANTA GA          9.04   \n",
       "3        10000014     07-01-2016  Pink Cab  ATLANTA GA         33.17   \n",
       "4        10000015     03-01-2016  Pink Cab  ATLANTA GA          8.73   \n",
       "\n",
       "   Price Charged  Cost of Trip  Year  Month  \n",
       "0         370.95       313.635  2016      1  \n",
       "1         358.52       334.854  2016      1  \n",
       "2         125.20        97.632  2016      1  \n",
       "3         377.40       351.602  2016      1  \n",
       "4         114.62        97.776  2016      1  "
      ]
     },
     "execution_count": 12,
     "metadata": {},
     "output_type": "execute_result"
    }
   ],
   "source": [
    "df1=pd.read_csv(\"Cab_Data.csv\")\n",
    "df1.head()"
   ]
  },
  {
   "cell_type": "code",
   "execution_count": 13,
   "id": "1decf4a0",
   "metadata": {},
   "outputs": [
    {
     "data": {
      "text/plain": [
       "(359392, 9)"
      ]
     },
     "execution_count": 13,
     "metadata": {},
     "output_type": "execute_result"
    }
   ],
   "source": [
    "df1.shape"
   ]
  },
  {
   "cell_type": "code",
   "execution_count": 14,
   "id": "7df5a223",
   "metadata": {
    "scrolled": true
   },
   "outputs": [
    {
     "data": {
      "text/html": [
       "<div>\n",
       "<style scoped>\n",
       "    .dataframe tbody tr th:only-of-type {\n",
       "        vertical-align: middle;\n",
       "    }\n",
       "\n",
       "    .dataframe tbody tr th {\n",
       "        vertical-align: top;\n",
       "    }\n",
       "\n",
       "    .dataframe thead th {\n",
       "        text-align: right;\n",
       "    }\n",
       "</style>\n",
       "<table border=\"1\" class=\"dataframe\">\n",
       "  <thead>\n",
       "    <tr style=\"text-align: right;\">\n",
       "      <th></th>\n",
       "      <th>City</th>\n",
       "      <th>Population</th>\n",
       "      <th>Users</th>\n",
       "    </tr>\n",
       "  </thead>\n",
       "  <tbody>\n",
       "    <tr>\n",
       "      <th>0</th>\n",
       "      <td>NEW YORK NY</td>\n",
       "      <td>8,405,837</td>\n",
       "      <td>302,149</td>\n",
       "    </tr>\n",
       "    <tr>\n",
       "      <th>1</th>\n",
       "      <td>CHICAGO IL</td>\n",
       "      <td>1,955,130</td>\n",
       "      <td>164,468</td>\n",
       "    </tr>\n",
       "    <tr>\n",
       "      <th>2</th>\n",
       "      <td>LOS ANGELES CA</td>\n",
       "      <td>1,595,037</td>\n",
       "      <td>144,132</td>\n",
       "    </tr>\n",
       "    <tr>\n",
       "      <th>3</th>\n",
       "      <td>MIAMI FL</td>\n",
       "      <td>1,339,155</td>\n",
       "      <td>17,675</td>\n",
       "    </tr>\n",
       "    <tr>\n",
       "      <th>4</th>\n",
       "      <td>SILICON VALLEY</td>\n",
       "      <td>1,177,609</td>\n",
       "      <td>27,247</td>\n",
       "    </tr>\n",
       "  </tbody>\n",
       "</table>\n",
       "</div>"
      ],
      "text/plain": [
       "             City   Population      Users\n",
       "0     NEW YORK NY   8,405,837    302,149 \n",
       "1      CHICAGO IL   1,955,130    164,468 \n",
       "2  LOS ANGELES CA   1,595,037    144,132 \n",
       "3        MIAMI FL   1,339,155     17,675 \n",
       "4  SILICON VALLEY   1,177,609     27,247 "
      ]
     },
     "execution_count": 14,
     "metadata": {},
     "output_type": "execute_result"
    }
   ],
   "source": [
    "df2=pd.read_csv(\"City.csv\")\n",
    "df2.head()"
   ]
  },
  {
   "cell_type": "code",
   "execution_count": 15,
   "id": "0dc6167e",
   "metadata": {},
   "outputs": [
    {
     "data": {
      "text/plain": [
       "(20, 3)"
      ]
     },
     "execution_count": 15,
     "metadata": {},
     "output_type": "execute_result"
    }
   ],
   "source": [
    "df2.shape"
   ]
  },
  {
   "cell_type": "code",
   "execution_count": 16,
   "id": "0e22e90d",
   "metadata": {},
   "outputs": [
    {
     "data": {
      "text/html": [
       "<div>\n",
       "<style scoped>\n",
       "    .dataframe tbody tr th:only-of-type {\n",
       "        vertical-align: middle;\n",
       "    }\n",
       "\n",
       "    .dataframe tbody tr th {\n",
       "        vertical-align: top;\n",
       "    }\n",
       "\n",
       "    .dataframe thead th {\n",
       "        text-align: right;\n",
       "    }\n",
       "</style>\n",
       "<table border=\"1\" class=\"dataframe\">\n",
       "  <thead>\n",
       "    <tr style=\"text-align: right;\">\n",
       "      <th></th>\n",
       "      <th>Customer ID</th>\n",
       "      <th>Gender</th>\n",
       "      <th>Age</th>\n",
       "      <th>Income (USD/Month)</th>\n",
       "    </tr>\n",
       "  </thead>\n",
       "  <tbody>\n",
       "    <tr>\n",
       "      <th>0</th>\n",
       "      <td>29290</td>\n",
       "      <td>Male</td>\n",
       "      <td>28</td>\n",
       "      <td>10813</td>\n",
       "    </tr>\n",
       "    <tr>\n",
       "      <th>1</th>\n",
       "      <td>27703</td>\n",
       "      <td>Male</td>\n",
       "      <td>27</td>\n",
       "      <td>9237</td>\n",
       "    </tr>\n",
       "    <tr>\n",
       "      <th>2</th>\n",
       "      <td>28712</td>\n",
       "      <td>Male</td>\n",
       "      <td>53</td>\n",
       "      <td>11242</td>\n",
       "    </tr>\n",
       "    <tr>\n",
       "      <th>3</th>\n",
       "      <td>28020</td>\n",
       "      <td>Male</td>\n",
       "      <td>23</td>\n",
       "      <td>23327</td>\n",
       "    </tr>\n",
       "    <tr>\n",
       "      <th>4</th>\n",
       "      <td>27182</td>\n",
       "      <td>Male</td>\n",
       "      <td>33</td>\n",
       "      <td>8536</td>\n",
       "    </tr>\n",
       "  </tbody>\n",
       "</table>\n",
       "</div>"
      ],
      "text/plain": [
       "   Customer ID Gender  Age  Income (USD/Month)\n",
       "0        29290   Male   28               10813\n",
       "1        27703   Male   27                9237\n",
       "2        28712   Male   53               11242\n",
       "3        28020   Male   23               23327\n",
       "4        27182   Male   33                8536"
      ]
     },
     "execution_count": 16,
     "metadata": {},
     "output_type": "execute_result"
    }
   ],
   "source": [
    "df3=pd.read_csv(\"Customer_ID.csv\")\n",
    "df3.head()"
   ]
  },
  {
   "cell_type": "code",
   "execution_count": 17,
   "id": "df649c5b",
   "metadata": {},
   "outputs": [
    {
     "data": {
      "text/html": [
       "<div>\n",
       "<style scoped>\n",
       "    .dataframe tbody tr th:only-of-type {\n",
       "        vertical-align: middle;\n",
       "    }\n",
       "\n",
       "    .dataframe tbody tr th {\n",
       "        vertical-align: top;\n",
       "    }\n",
       "\n",
       "    .dataframe thead th {\n",
       "        text-align: right;\n",
       "    }\n",
       "</style>\n",
       "<table border=\"1\" class=\"dataframe\">\n",
       "  <thead>\n",
       "    <tr style=\"text-align: right;\">\n",
       "      <th></th>\n",
       "      <th>Transaction ID</th>\n",
       "      <th>Customer ID</th>\n",
       "      <th>Payment_Mode</th>\n",
       "    </tr>\n",
       "  </thead>\n",
       "  <tbody>\n",
       "    <tr>\n",
       "      <th>0</th>\n",
       "      <td>10000011</td>\n",
       "      <td>29290</td>\n",
       "      <td>Card</td>\n",
       "    </tr>\n",
       "    <tr>\n",
       "      <th>1</th>\n",
       "      <td>10000012</td>\n",
       "      <td>27703</td>\n",
       "      <td>Card</td>\n",
       "    </tr>\n",
       "    <tr>\n",
       "      <th>2</th>\n",
       "      <td>10000013</td>\n",
       "      <td>28712</td>\n",
       "      <td>Cash</td>\n",
       "    </tr>\n",
       "    <tr>\n",
       "      <th>3</th>\n",
       "      <td>10000014</td>\n",
       "      <td>28020</td>\n",
       "      <td>Cash</td>\n",
       "    </tr>\n",
       "    <tr>\n",
       "      <th>4</th>\n",
       "      <td>10000015</td>\n",
       "      <td>27182</td>\n",
       "      <td>Card</td>\n",
       "    </tr>\n",
       "  </tbody>\n",
       "</table>\n",
       "</div>"
      ],
      "text/plain": [
       "   Transaction ID  Customer ID Payment_Mode\n",
       "0        10000011        29290         Card\n",
       "1        10000012        27703         Card\n",
       "2        10000013        28712         Cash\n",
       "3        10000014        28020         Cash\n",
       "4        10000015        27182         Card"
      ]
     },
     "execution_count": 17,
     "metadata": {},
     "output_type": "execute_result"
    }
   ],
   "source": [
    "df4=pd.read_csv(\"Transaction_ID.csv\")\n",
    "df4.head()"
   ]
  },
  {
   "cell_type": "code",
   "execution_count": 18,
   "id": "0a1b6201",
   "metadata": {},
   "outputs": [
    {
     "data": {
      "text/plain": [
       "(440098, 3)"
      ]
     },
     "execution_count": 18,
     "metadata": {},
     "output_type": "execute_result"
    }
   ],
   "source": [
    "df4.shape\n",
    "\n"
   ]
  },
  {
   "cell_type": "code",
   "execution_count": 19,
   "id": "cf90f6a0",
   "metadata": {},
   "outputs": [
    {
     "data": {
      "text/plain": [
       "(49171, 4)"
      ]
     },
     "execution_count": 19,
     "metadata": {},
     "output_type": "execute_result"
    }
   ],
   "source": [
    "df3.shape"
   ]
  },
  {
   "cell_type": "code",
   "execution_count": 20,
   "id": "c9d9af6f",
   "metadata": {},
   "outputs": [],
   "source": [
    "df_1=pd.merge(df3,df4)"
   ]
  },
  {
   "cell_type": "code",
   "execution_count": 21,
   "id": "13557759",
   "metadata": {},
   "outputs": [
    {
     "data": {
      "text/html": [
       "<div>\n",
       "<style scoped>\n",
       "    .dataframe tbody tr th:only-of-type {\n",
       "        vertical-align: middle;\n",
       "    }\n",
       "\n",
       "    .dataframe tbody tr th {\n",
       "        vertical-align: top;\n",
       "    }\n",
       "\n",
       "    .dataframe thead th {\n",
       "        text-align: right;\n",
       "    }\n",
       "</style>\n",
       "<table border=\"1\" class=\"dataframe\">\n",
       "  <thead>\n",
       "    <tr style=\"text-align: right;\">\n",
       "      <th></th>\n",
       "      <th>Customer ID</th>\n",
       "      <th>Gender</th>\n",
       "      <th>Age</th>\n",
       "      <th>Income (USD/Month)</th>\n",
       "      <th>Transaction ID</th>\n",
       "      <th>Payment_Mode</th>\n",
       "    </tr>\n",
       "  </thead>\n",
       "  <tbody>\n",
       "    <tr>\n",
       "      <th>0</th>\n",
       "      <td>29290</td>\n",
       "      <td>Male</td>\n",
       "      <td>28</td>\n",
       "      <td>10813</td>\n",
       "      <td>10000011</td>\n",
       "      <td>Card</td>\n",
       "    </tr>\n",
       "    <tr>\n",
       "      <th>1</th>\n",
       "      <td>29290</td>\n",
       "      <td>Male</td>\n",
       "      <td>28</td>\n",
       "      <td>10813</td>\n",
       "      <td>10351127</td>\n",
       "      <td>Cash</td>\n",
       "    </tr>\n",
       "    <tr>\n",
       "      <th>2</th>\n",
       "      <td>29290</td>\n",
       "      <td>Male</td>\n",
       "      <td>28</td>\n",
       "      <td>10813</td>\n",
       "      <td>10412921</td>\n",
       "      <td>Card</td>\n",
       "    </tr>\n",
       "    <tr>\n",
       "      <th>3</th>\n",
       "      <td>27703</td>\n",
       "      <td>Male</td>\n",
       "      <td>27</td>\n",
       "      <td>9237</td>\n",
       "      <td>10000012</td>\n",
       "      <td>Card</td>\n",
       "    </tr>\n",
       "    <tr>\n",
       "      <th>4</th>\n",
       "      <td>27703</td>\n",
       "      <td>Male</td>\n",
       "      <td>27</td>\n",
       "      <td>9237</td>\n",
       "      <td>10320494</td>\n",
       "      <td>Card</td>\n",
       "    </tr>\n",
       "  </tbody>\n",
       "</table>\n",
       "</div>"
      ],
      "text/plain": [
       "   Customer ID Gender  Age  Income (USD/Month)  Transaction ID Payment_Mode\n",
       "0        29290   Male   28               10813        10000011         Card\n",
       "1        29290   Male   28               10813        10351127         Cash\n",
       "2        29290   Male   28               10813        10412921         Card\n",
       "3        27703   Male   27                9237        10000012         Card\n",
       "4        27703   Male   27                9237        10320494         Card"
      ]
     },
     "execution_count": 21,
     "metadata": {},
     "output_type": "execute_result"
    }
   ],
   "source": [
    "df_1.head()"
   ]
  },
  {
   "cell_type": "code",
   "execution_count": 22,
   "id": "a8ebf511",
   "metadata": {},
   "outputs": [],
   "source": [
    "df=pd.merge(df_1,df1)"
   ]
  },
  {
   "cell_type": "code",
   "execution_count": 23,
   "id": "90265b29",
   "metadata": {},
   "outputs": [
    {
     "data": {
      "text/plain": [
       "(359392, 14)"
      ]
     },
     "execution_count": 23,
     "metadata": {},
     "output_type": "execute_result"
    }
   ],
   "source": [
    "df.shape"
   ]
  },
  {
   "cell_type": "code",
   "execution_count": 24,
   "id": "0a27a374",
   "metadata": {},
   "outputs": [
    {
     "data": {
      "text/html": [
       "<div>\n",
       "<style scoped>\n",
       "    .dataframe tbody tr th:only-of-type {\n",
       "        vertical-align: middle;\n",
       "    }\n",
       "\n",
       "    .dataframe tbody tr th {\n",
       "        vertical-align: top;\n",
       "    }\n",
       "\n",
       "    .dataframe thead th {\n",
       "        text-align: right;\n",
       "    }\n",
       "</style>\n",
       "<table border=\"1\" class=\"dataframe\">\n",
       "  <thead>\n",
       "    <tr style=\"text-align: right;\">\n",
       "      <th></th>\n",
       "      <th>Customer ID</th>\n",
       "      <th>Gender</th>\n",
       "      <th>Age</th>\n",
       "      <th>Income (USD/Month)</th>\n",
       "      <th>Transaction ID</th>\n",
       "      <th>Payment_Mode</th>\n",
       "      <th>Date of Travel</th>\n",
       "      <th>Company</th>\n",
       "      <th>City</th>\n",
       "      <th>KM Travelled</th>\n",
       "      <th>Price Charged</th>\n",
       "      <th>Cost of Trip</th>\n",
       "      <th>Year</th>\n",
       "      <th>Month</th>\n",
       "    </tr>\n",
       "  </thead>\n",
       "  <tbody>\n",
       "    <tr>\n",
       "      <th>0</th>\n",
       "      <td>29290</td>\n",
       "      <td>Male</td>\n",
       "      <td>28</td>\n",
       "      <td>10813</td>\n",
       "      <td>10000011</td>\n",
       "      <td>Card</td>\n",
       "      <td>08-01-2016</td>\n",
       "      <td>Pink Cab</td>\n",
       "      <td>ATLANTA GA</td>\n",
       "      <td>30.45</td>\n",
       "      <td>370.95</td>\n",
       "      <td>313.6350</td>\n",
       "      <td>2016</td>\n",
       "      <td>1</td>\n",
       "    </tr>\n",
       "    <tr>\n",
       "      <th>1</th>\n",
       "      <td>29290</td>\n",
       "      <td>Male</td>\n",
       "      <td>28</td>\n",
       "      <td>10813</td>\n",
       "      <td>10351127</td>\n",
       "      <td>Cash</td>\n",
       "      <td>21-07-2018</td>\n",
       "      <td>Yellow Cab</td>\n",
       "      <td>ATLANTA GA</td>\n",
       "      <td>26.19</td>\n",
       "      <td>598.70</td>\n",
       "      <td>317.4228</td>\n",
       "      <td>2018</td>\n",
       "      <td>7</td>\n",
       "    </tr>\n",
       "    <tr>\n",
       "      <th>2</th>\n",
       "      <td>29290</td>\n",
       "      <td>Male</td>\n",
       "      <td>28</td>\n",
       "      <td>10813</td>\n",
       "      <td>10412921</td>\n",
       "      <td>Card</td>\n",
       "      <td>23-11-2018</td>\n",
       "      <td>Yellow Cab</td>\n",
       "      <td>ATLANTA GA</td>\n",
       "      <td>42.55</td>\n",
       "      <td>792.05</td>\n",
       "      <td>597.4020</td>\n",
       "      <td>2018</td>\n",
       "      <td>11</td>\n",
       "    </tr>\n",
       "    <tr>\n",
       "      <th>3</th>\n",
       "      <td>27703</td>\n",
       "      <td>Male</td>\n",
       "      <td>27</td>\n",
       "      <td>9237</td>\n",
       "      <td>10000012</td>\n",
       "      <td>Card</td>\n",
       "      <td>06-01-2016</td>\n",
       "      <td>Pink Cab</td>\n",
       "      <td>ATLANTA GA</td>\n",
       "      <td>28.62</td>\n",
       "      <td>358.52</td>\n",
       "      <td>334.8540</td>\n",
       "      <td>2016</td>\n",
       "      <td>1</td>\n",
       "    </tr>\n",
       "    <tr>\n",
       "      <th>4</th>\n",
       "      <td>27703</td>\n",
       "      <td>Male</td>\n",
       "      <td>27</td>\n",
       "      <td>9237</td>\n",
       "      <td>10320494</td>\n",
       "      <td>Card</td>\n",
       "      <td>21-04-2018</td>\n",
       "      <td>Yellow Cab</td>\n",
       "      <td>ATLANTA GA</td>\n",
       "      <td>36.38</td>\n",
       "      <td>721.10</td>\n",
       "      <td>467.1192</td>\n",
       "      <td>2018</td>\n",
       "      <td>4</td>\n",
       "    </tr>\n",
       "  </tbody>\n",
       "</table>\n",
       "</div>"
      ],
      "text/plain": [
       "   Customer ID Gender  Age  Income (USD/Month)  Transaction ID Payment_Mode  \\\n",
       "0        29290   Male   28               10813        10000011         Card   \n",
       "1        29290   Male   28               10813        10351127         Cash   \n",
       "2        29290   Male   28               10813        10412921         Card   \n",
       "3        27703   Male   27                9237        10000012         Card   \n",
       "4        27703   Male   27                9237        10320494         Card   \n",
       "\n",
       "  Date of Travel     Company        City  KM Travelled  Price Charged  \\\n",
       "0     08-01-2016    Pink Cab  ATLANTA GA         30.45         370.95   \n",
       "1     21-07-2018  Yellow Cab  ATLANTA GA         26.19         598.70   \n",
       "2     23-11-2018  Yellow Cab  ATLANTA GA         42.55         792.05   \n",
       "3     06-01-2016    Pink Cab  ATLANTA GA         28.62         358.52   \n",
       "4     21-04-2018  Yellow Cab  ATLANTA GA         36.38         721.10   \n",
       "\n",
       "   Cost of Trip  Year  Month  \n",
       "0      313.6350  2016      1  \n",
       "1      317.4228  2018      7  \n",
       "2      597.4020  2018     11  \n",
       "3      334.8540  2016      1  \n",
       "4      467.1192  2018      4  "
      ]
     },
     "execution_count": 24,
     "metadata": {},
     "output_type": "execute_result"
    }
   ],
   "source": [
    "df.head()"
   ]
  },
  {
   "cell_type": "code",
   "execution_count": 25,
   "id": "385ec427",
   "metadata": {},
   "outputs": [],
   "source": [
    "df_left=df.merge(df2, on='City', how='left')"
   ]
  },
  {
   "cell_type": "code",
   "execution_count": 26,
   "id": "8d0410e1",
   "metadata": {},
   "outputs": [],
   "source": [
    "df=df_left\n"
   ]
  },
  {
   "cell_type": "code",
   "execution_count": 27,
   "id": "b50bc3b4",
   "metadata": {},
   "outputs": [
    {
     "data": {
      "text/html": [
       "<div>\n",
       "<style scoped>\n",
       "    .dataframe tbody tr th:only-of-type {\n",
       "        vertical-align: middle;\n",
       "    }\n",
       "\n",
       "    .dataframe tbody tr th {\n",
       "        vertical-align: top;\n",
       "    }\n",
       "\n",
       "    .dataframe thead th {\n",
       "        text-align: right;\n",
       "    }\n",
       "</style>\n",
       "<table border=\"1\" class=\"dataframe\">\n",
       "  <thead>\n",
       "    <tr style=\"text-align: right;\">\n",
       "      <th></th>\n",
       "      <th>Customer ID</th>\n",
       "      <th>Gender</th>\n",
       "      <th>Age</th>\n",
       "      <th>Income (USD/Month)</th>\n",
       "      <th>Transaction ID</th>\n",
       "      <th>Payment_Mode</th>\n",
       "      <th>Date of Travel</th>\n",
       "      <th>Company</th>\n",
       "      <th>City</th>\n",
       "      <th>KM Travelled</th>\n",
       "      <th>Price Charged</th>\n",
       "      <th>Cost of Trip</th>\n",
       "      <th>Year</th>\n",
       "      <th>Month</th>\n",
       "      <th>Population</th>\n",
       "      <th>Users</th>\n",
       "    </tr>\n",
       "  </thead>\n",
       "  <tbody>\n",
       "    <tr>\n",
       "      <th>0</th>\n",
       "      <td>29290</td>\n",
       "      <td>Male</td>\n",
       "      <td>28</td>\n",
       "      <td>10813</td>\n",
       "      <td>10000011</td>\n",
       "      <td>Card</td>\n",
       "      <td>08-01-2016</td>\n",
       "      <td>Pink Cab</td>\n",
       "      <td>ATLANTA GA</td>\n",
       "      <td>30.45</td>\n",
       "      <td>370.95</td>\n",
       "      <td>313.6350</td>\n",
       "      <td>2016</td>\n",
       "      <td>1</td>\n",
       "      <td>814,885</td>\n",
       "      <td>24,701</td>\n",
       "    </tr>\n",
       "    <tr>\n",
       "      <th>1</th>\n",
       "      <td>29290</td>\n",
       "      <td>Male</td>\n",
       "      <td>28</td>\n",
       "      <td>10813</td>\n",
       "      <td>10351127</td>\n",
       "      <td>Cash</td>\n",
       "      <td>21-07-2018</td>\n",
       "      <td>Yellow Cab</td>\n",
       "      <td>ATLANTA GA</td>\n",
       "      <td>26.19</td>\n",
       "      <td>598.70</td>\n",
       "      <td>317.4228</td>\n",
       "      <td>2018</td>\n",
       "      <td>7</td>\n",
       "      <td>814,885</td>\n",
       "      <td>24,701</td>\n",
       "    </tr>\n",
       "    <tr>\n",
       "      <th>2</th>\n",
       "      <td>29290</td>\n",
       "      <td>Male</td>\n",
       "      <td>28</td>\n",
       "      <td>10813</td>\n",
       "      <td>10412921</td>\n",
       "      <td>Card</td>\n",
       "      <td>23-11-2018</td>\n",
       "      <td>Yellow Cab</td>\n",
       "      <td>ATLANTA GA</td>\n",
       "      <td>42.55</td>\n",
       "      <td>792.05</td>\n",
       "      <td>597.4020</td>\n",
       "      <td>2018</td>\n",
       "      <td>11</td>\n",
       "      <td>814,885</td>\n",
       "      <td>24,701</td>\n",
       "    </tr>\n",
       "    <tr>\n",
       "      <th>3</th>\n",
       "      <td>27703</td>\n",
       "      <td>Male</td>\n",
       "      <td>27</td>\n",
       "      <td>9237</td>\n",
       "      <td>10000012</td>\n",
       "      <td>Card</td>\n",
       "      <td>06-01-2016</td>\n",
       "      <td>Pink Cab</td>\n",
       "      <td>ATLANTA GA</td>\n",
       "      <td>28.62</td>\n",
       "      <td>358.52</td>\n",
       "      <td>334.8540</td>\n",
       "      <td>2016</td>\n",
       "      <td>1</td>\n",
       "      <td>814,885</td>\n",
       "      <td>24,701</td>\n",
       "    </tr>\n",
       "    <tr>\n",
       "      <th>4</th>\n",
       "      <td>27703</td>\n",
       "      <td>Male</td>\n",
       "      <td>27</td>\n",
       "      <td>9237</td>\n",
       "      <td>10320494</td>\n",
       "      <td>Card</td>\n",
       "      <td>21-04-2018</td>\n",
       "      <td>Yellow Cab</td>\n",
       "      <td>ATLANTA GA</td>\n",
       "      <td>36.38</td>\n",
       "      <td>721.10</td>\n",
       "      <td>467.1192</td>\n",
       "      <td>2018</td>\n",
       "      <td>4</td>\n",
       "      <td>814,885</td>\n",
       "      <td>24,701</td>\n",
       "    </tr>\n",
       "  </tbody>\n",
       "</table>\n",
       "</div>"
      ],
      "text/plain": [
       "   Customer ID Gender  Age  Income (USD/Month)  Transaction ID Payment_Mode  \\\n",
       "0        29290   Male   28               10813        10000011         Card   \n",
       "1        29290   Male   28               10813        10351127         Cash   \n",
       "2        29290   Male   28               10813        10412921         Card   \n",
       "3        27703   Male   27                9237        10000012         Card   \n",
       "4        27703   Male   27                9237        10320494         Card   \n",
       "\n",
       "  Date of Travel     Company        City  KM Travelled  Price Charged  \\\n",
       "0     08-01-2016    Pink Cab  ATLANTA GA         30.45         370.95   \n",
       "1     21-07-2018  Yellow Cab  ATLANTA GA         26.19         598.70   \n",
       "2     23-11-2018  Yellow Cab  ATLANTA GA         42.55         792.05   \n",
       "3     06-01-2016    Pink Cab  ATLANTA GA         28.62         358.52   \n",
       "4     21-04-2018  Yellow Cab  ATLANTA GA         36.38         721.10   \n",
       "\n",
       "   Cost of Trip  Year  Month Population     Users  \n",
       "0      313.6350  2016      1   814,885    24,701   \n",
       "1      317.4228  2018      7   814,885    24,701   \n",
       "2      597.4020  2018     11   814,885    24,701   \n",
       "3      334.8540  2016      1   814,885    24,701   \n",
       "4      467.1192  2018      4   814,885    24,701   "
      ]
     },
     "execution_count": 27,
     "metadata": {},
     "output_type": "execute_result"
    }
   ],
   "source": [
    "df.head()"
   ]
  },
  {
   "cell_type": "code",
   "execution_count": 28,
   "id": "b0fdc953",
   "metadata": {},
   "outputs": [],
   "source": [
    "df[\"Profit\"]=df[\"Price Charged\"]-df[\"Cost of Trip\"]"
   ]
  },
  {
   "cell_type": "code",
   "execution_count": 29,
   "id": "47873808",
   "metadata": {},
   "outputs": [
    {
     "data": {
      "text/html": [
       "<div>\n",
       "<style scoped>\n",
       "    .dataframe tbody tr th:only-of-type {\n",
       "        vertical-align: middle;\n",
       "    }\n",
       "\n",
       "    .dataframe tbody tr th {\n",
       "        vertical-align: top;\n",
       "    }\n",
       "\n",
       "    .dataframe thead th {\n",
       "        text-align: right;\n",
       "    }\n",
       "</style>\n",
       "<table border=\"1\" class=\"dataframe\">\n",
       "  <thead>\n",
       "    <tr style=\"text-align: right;\">\n",
       "      <th></th>\n",
       "      <th>Customer ID</th>\n",
       "      <th>Gender</th>\n",
       "      <th>Age</th>\n",
       "      <th>Income (USD/Month)</th>\n",
       "      <th>Transaction ID</th>\n",
       "      <th>Payment_Mode</th>\n",
       "      <th>Date of Travel</th>\n",
       "      <th>Company</th>\n",
       "      <th>City</th>\n",
       "      <th>KM Travelled</th>\n",
       "      <th>Price Charged</th>\n",
       "      <th>Cost of Trip</th>\n",
       "      <th>Year</th>\n",
       "      <th>Month</th>\n",
       "      <th>Population</th>\n",
       "      <th>Users</th>\n",
       "      <th>Profit</th>\n",
       "    </tr>\n",
       "  </thead>\n",
       "  <tbody>\n",
       "    <tr>\n",
       "      <th>0</th>\n",
       "      <td>29290</td>\n",
       "      <td>Male</td>\n",
       "      <td>28</td>\n",
       "      <td>10813</td>\n",
       "      <td>10000011</td>\n",
       "      <td>Card</td>\n",
       "      <td>08-01-2016</td>\n",
       "      <td>Pink Cab</td>\n",
       "      <td>ATLANTA GA</td>\n",
       "      <td>30.45</td>\n",
       "      <td>370.95</td>\n",
       "      <td>313.6350</td>\n",
       "      <td>2016</td>\n",
       "      <td>1</td>\n",
       "      <td>814,885</td>\n",
       "      <td>24,701</td>\n",
       "      <td>57.3150</td>\n",
       "    </tr>\n",
       "    <tr>\n",
       "      <th>1</th>\n",
       "      <td>29290</td>\n",
       "      <td>Male</td>\n",
       "      <td>28</td>\n",
       "      <td>10813</td>\n",
       "      <td>10351127</td>\n",
       "      <td>Cash</td>\n",
       "      <td>21-07-2018</td>\n",
       "      <td>Yellow Cab</td>\n",
       "      <td>ATLANTA GA</td>\n",
       "      <td>26.19</td>\n",
       "      <td>598.70</td>\n",
       "      <td>317.4228</td>\n",
       "      <td>2018</td>\n",
       "      <td>7</td>\n",
       "      <td>814,885</td>\n",
       "      <td>24,701</td>\n",
       "      <td>281.2772</td>\n",
       "    </tr>\n",
       "    <tr>\n",
       "      <th>2</th>\n",
       "      <td>29290</td>\n",
       "      <td>Male</td>\n",
       "      <td>28</td>\n",
       "      <td>10813</td>\n",
       "      <td>10412921</td>\n",
       "      <td>Card</td>\n",
       "      <td>23-11-2018</td>\n",
       "      <td>Yellow Cab</td>\n",
       "      <td>ATLANTA GA</td>\n",
       "      <td>42.55</td>\n",
       "      <td>792.05</td>\n",
       "      <td>597.4020</td>\n",
       "      <td>2018</td>\n",
       "      <td>11</td>\n",
       "      <td>814,885</td>\n",
       "      <td>24,701</td>\n",
       "      <td>194.6480</td>\n",
       "    </tr>\n",
       "    <tr>\n",
       "      <th>3</th>\n",
       "      <td>27703</td>\n",
       "      <td>Male</td>\n",
       "      <td>27</td>\n",
       "      <td>9237</td>\n",
       "      <td>10000012</td>\n",
       "      <td>Card</td>\n",
       "      <td>06-01-2016</td>\n",
       "      <td>Pink Cab</td>\n",
       "      <td>ATLANTA GA</td>\n",
       "      <td>28.62</td>\n",
       "      <td>358.52</td>\n",
       "      <td>334.8540</td>\n",
       "      <td>2016</td>\n",
       "      <td>1</td>\n",
       "      <td>814,885</td>\n",
       "      <td>24,701</td>\n",
       "      <td>23.6660</td>\n",
       "    </tr>\n",
       "    <tr>\n",
       "      <th>4</th>\n",
       "      <td>27703</td>\n",
       "      <td>Male</td>\n",
       "      <td>27</td>\n",
       "      <td>9237</td>\n",
       "      <td>10320494</td>\n",
       "      <td>Card</td>\n",
       "      <td>21-04-2018</td>\n",
       "      <td>Yellow Cab</td>\n",
       "      <td>ATLANTA GA</td>\n",
       "      <td>36.38</td>\n",
       "      <td>721.10</td>\n",
       "      <td>467.1192</td>\n",
       "      <td>2018</td>\n",
       "      <td>4</td>\n",
       "      <td>814,885</td>\n",
       "      <td>24,701</td>\n",
       "      <td>253.9808</td>\n",
       "    </tr>\n",
       "  </tbody>\n",
       "</table>\n",
       "</div>"
      ],
      "text/plain": [
       "   Customer ID Gender  Age  Income (USD/Month)  Transaction ID Payment_Mode  \\\n",
       "0        29290   Male   28               10813        10000011         Card   \n",
       "1        29290   Male   28               10813        10351127         Cash   \n",
       "2        29290   Male   28               10813        10412921         Card   \n",
       "3        27703   Male   27                9237        10000012         Card   \n",
       "4        27703   Male   27                9237        10320494         Card   \n",
       "\n",
       "  Date of Travel     Company        City  KM Travelled  Price Charged  \\\n",
       "0     08-01-2016    Pink Cab  ATLANTA GA         30.45         370.95   \n",
       "1     21-07-2018  Yellow Cab  ATLANTA GA         26.19         598.70   \n",
       "2     23-11-2018  Yellow Cab  ATLANTA GA         42.55         792.05   \n",
       "3     06-01-2016    Pink Cab  ATLANTA GA         28.62         358.52   \n",
       "4     21-04-2018  Yellow Cab  ATLANTA GA         36.38         721.10   \n",
       "\n",
       "   Cost of Trip  Year  Month Population     Users    Profit  \n",
       "0      313.6350  2016      1   814,885    24,701    57.3150  \n",
       "1      317.4228  2018      7   814,885    24,701   281.2772  \n",
       "2      597.4020  2018     11   814,885    24,701   194.6480  \n",
       "3      334.8540  2016      1   814,885    24,701    23.6660  \n",
       "4      467.1192  2018      4   814,885    24,701   253.9808  "
      ]
     },
     "execution_count": 29,
     "metadata": {},
     "output_type": "execute_result"
    }
   ],
   "source": [
    "df.head()"
   ]
  },
  {
   "cell_type": "markdown",
   "id": "d525ec8e",
   "metadata": {},
   "source": [
    "### In Holiday season there will be more cab rides\n",
    "### City with higher population will have more rides\n",
    "### There will be more Male customers\n",
    "### Office going or middle Aged people will prefer cabs\n"
   ]
  },
  {
   "cell_type": "code",
   "execution_count": null,
   "id": "2d8cc6d2",
   "metadata": {},
   "outputs": [],
   "source": []
  },
  {
   "cell_type": "code",
   "execution_count": 30,
   "id": "ef99d04d",
   "metadata": {
    "scrolled": true
   },
   "outputs": [
    {
     "data": {
      "text/html": [
       "<div>\n",
       "<style scoped>\n",
       "    .dataframe tbody tr th:only-of-type {\n",
       "        vertical-align: middle;\n",
       "    }\n",
       "\n",
       "    .dataframe tbody tr th {\n",
       "        vertical-align: top;\n",
       "    }\n",
       "\n",
       "    .dataframe thead th {\n",
       "        text-align: right;\n",
       "    }\n",
       "</style>\n",
       "<table border=\"1\" class=\"dataframe\">\n",
       "  <thead>\n",
       "    <tr style=\"text-align: right;\">\n",
       "      <th></th>\n",
       "      <th>Customer ID</th>\n",
       "      <th>Age</th>\n",
       "      <th>Income (USD/Month)</th>\n",
       "      <th>Transaction ID</th>\n",
       "      <th>KM Travelled</th>\n",
       "      <th>Price Charged</th>\n",
       "      <th>Cost of Trip</th>\n",
       "      <th>Year</th>\n",
       "      <th>Month</th>\n",
       "      <th>Profit</th>\n",
       "    </tr>\n",
       "  </thead>\n",
       "  <tbody>\n",
       "    <tr>\n",
       "      <th>count</th>\n",
       "      <td>359392.000000</td>\n",
       "      <td>359392.000000</td>\n",
       "      <td>359392.000000</td>\n",
       "      <td>3.593920e+05</td>\n",
       "      <td>359392.000000</td>\n",
       "      <td>359392.000000</td>\n",
       "      <td>359392.000000</td>\n",
       "      <td>359392.000000</td>\n",
       "      <td>359392.000000</td>\n",
       "      <td>359392.000000</td>\n",
       "    </tr>\n",
       "    <tr>\n",
       "      <th>mean</th>\n",
       "      <td>19191.652115</td>\n",
       "      <td>35.336705</td>\n",
       "      <td>15048.822937</td>\n",
       "      <td>1.022076e+07</td>\n",
       "      <td>22.567254</td>\n",
       "      <td>423.443311</td>\n",
       "      <td>286.190113</td>\n",
       "      <td>2017.045199</td>\n",
       "      <td>7.500434</td>\n",
       "      <td>137.253198</td>\n",
       "    </tr>\n",
       "    <tr>\n",
       "      <th>std</th>\n",
       "      <td>21012.412463</td>\n",
       "      <td>12.594234</td>\n",
       "      <td>7969.409482</td>\n",
       "      <td>1.268058e+05</td>\n",
       "      <td>12.233526</td>\n",
       "      <td>274.378911</td>\n",
       "      <td>157.993661</td>\n",
       "      <td>0.800239</td>\n",
       "      <td>3.445095</td>\n",
       "      <td>160.311840</td>\n",
       "    </tr>\n",
       "    <tr>\n",
       "      <th>min</th>\n",
       "      <td>1.000000</td>\n",
       "      <td>18.000000</td>\n",
       "      <td>2000.000000</td>\n",
       "      <td>1.000001e+07</td>\n",
       "      <td>1.900000</td>\n",
       "      <td>15.600000</td>\n",
       "      <td>19.000000</td>\n",
       "      <td>2016.000000</td>\n",
       "      <td>1.000000</td>\n",
       "      <td>-220.060000</td>\n",
       "    </tr>\n",
       "    <tr>\n",
       "      <th>25%</th>\n",
       "      <td>2705.000000</td>\n",
       "      <td>25.000000</td>\n",
       "      <td>8424.000000</td>\n",
       "      <td>1.011081e+07</td>\n",
       "      <td>12.000000</td>\n",
       "      <td>206.437500</td>\n",
       "      <td>151.200000</td>\n",
       "      <td>2016.000000</td>\n",
       "      <td>5.000000</td>\n",
       "      <td>28.012000</td>\n",
       "    </tr>\n",
       "    <tr>\n",
       "      <th>50%</th>\n",
       "      <td>7459.000000</td>\n",
       "      <td>33.000000</td>\n",
       "      <td>14685.000000</td>\n",
       "      <td>1.022104e+07</td>\n",
       "      <td>22.440000</td>\n",
       "      <td>386.360000</td>\n",
       "      <td>282.480000</td>\n",
       "      <td>2017.000000</td>\n",
       "      <td>8.000000</td>\n",
       "      <td>81.962000</td>\n",
       "    </tr>\n",
       "    <tr>\n",
       "      <th>75%</th>\n",
       "      <td>36078.000000</td>\n",
       "      <td>42.000000</td>\n",
       "      <td>21035.000000</td>\n",
       "      <td>1.033094e+07</td>\n",
       "      <td>32.960000</td>\n",
       "      <td>583.660000</td>\n",
       "      <td>413.683200</td>\n",
       "      <td>2018.000000</td>\n",
       "      <td>10.000000</td>\n",
       "      <td>190.030000</td>\n",
       "    </tr>\n",
       "    <tr>\n",
       "      <th>max</th>\n",
       "      <td>60000.000000</td>\n",
       "      <td>65.000000</td>\n",
       "      <td>35000.000000</td>\n",
       "      <td>1.044011e+07</td>\n",
       "      <td>48.000000</td>\n",
       "      <td>2048.030000</td>\n",
       "      <td>691.200000</td>\n",
       "      <td>2018.000000</td>\n",
       "      <td>12.000000</td>\n",
       "      <td>1463.966000</td>\n",
       "    </tr>\n",
       "  </tbody>\n",
       "</table>\n",
       "</div>"
      ],
      "text/plain": [
       "         Customer ID            Age  Income (USD/Month)  Transaction ID  \\\n",
       "count  359392.000000  359392.000000       359392.000000    3.593920e+05   \n",
       "mean    19191.652115      35.336705        15048.822937    1.022076e+07   \n",
       "std     21012.412463      12.594234         7969.409482    1.268058e+05   \n",
       "min         1.000000      18.000000         2000.000000    1.000001e+07   \n",
       "25%      2705.000000      25.000000         8424.000000    1.011081e+07   \n",
       "50%      7459.000000      33.000000        14685.000000    1.022104e+07   \n",
       "75%     36078.000000      42.000000        21035.000000    1.033094e+07   \n",
       "max     60000.000000      65.000000        35000.000000    1.044011e+07   \n",
       "\n",
       "        KM Travelled  Price Charged   Cost of Trip           Year  \\\n",
       "count  359392.000000  359392.000000  359392.000000  359392.000000   \n",
       "mean       22.567254     423.443311     286.190113    2017.045199   \n",
       "std        12.233526     274.378911     157.993661       0.800239   \n",
       "min         1.900000      15.600000      19.000000    2016.000000   \n",
       "25%        12.000000     206.437500     151.200000    2016.000000   \n",
       "50%        22.440000     386.360000     282.480000    2017.000000   \n",
       "75%        32.960000     583.660000     413.683200    2018.000000   \n",
       "max        48.000000    2048.030000     691.200000    2018.000000   \n",
       "\n",
       "               Month         Profit  \n",
       "count  359392.000000  359392.000000  \n",
       "mean        7.500434     137.253198  \n",
       "std         3.445095     160.311840  \n",
       "min         1.000000    -220.060000  \n",
       "25%         5.000000      28.012000  \n",
       "50%         8.000000      81.962000  \n",
       "75%        10.000000     190.030000  \n",
       "max        12.000000    1463.966000  "
      ]
     },
     "execution_count": 30,
     "metadata": {},
     "output_type": "execute_result"
    }
   ],
   "source": [
    "df.describe()"
   ]
  },
  {
   "cell_type": "code",
   "execution_count": null,
   "id": "e052fb98",
   "metadata": {},
   "outputs": [],
   "source": []
  },
  {
   "cell_type": "code",
   "execution_count": 31,
   "id": "a4dc7a7b",
   "metadata": {},
   "outputs": [
    {
     "data": {
      "text/plain": [
       "(359392, 17)"
      ]
     },
     "execution_count": 31,
     "metadata": {},
     "output_type": "execute_result"
    }
   ],
   "source": [
    "df.shape"
   ]
  },
  {
   "cell_type": "markdown",
   "id": "3d42b76b",
   "metadata": {},
   "source": [
    "# Univarite Analysis"
   ]
  },
  {
   "cell_type": "code",
   "execution_count": 32,
   "id": "e678902e",
   "metadata": {},
   "outputs": [],
   "source": [
    "color=[\"#E3CF57\",\"#FF1493\"]"
   ]
  },
  {
   "cell_type": "code",
   "execution_count": null,
   "id": "f1a9c24c",
   "metadata": {},
   "outputs": [],
   "source": []
  },
  {
   "cell_type": "code",
   "execution_count": 33,
   "id": "271c0790",
   "metadata": {
    "scrolled": true
   },
   "outputs": [
    {
     "data": {
      "text/plain": [
       "Text(0.5, 1.0, 'Information on Cab Campany')"
      ]
     },
     "execution_count": 33,
     "metadata": {},
     "output_type": "execute_result"
    },
    {
     "data": {
      "image/png": "[encoded data removed]",
      "text/plain": [
       "<Figure size 432x288 with 1 Axes>"
      ]
     },
     "metadata": {},
     "output_type": "display_data"
    }
   ],
   "source": [
    "df.Company.value_counts().plot.pie(explode=[0,0.25], autopct='%1.2f%%', shadow=True, colors=color, \n",
    "                                          )\n",
    "plt.title(\"Information on Cab Campany\")"
   ]
  },
  {
   "cell_type": "markdown",
   "id": "d04cf599",
   "metadata": {},
   "source": [
    "#### There are more yellow cabs than pink cabs"
   ]
  },
  {
   "cell_type": "code",
   "execution_count": 104,
   "id": "821c3f8b",
   "metadata": {},
   "outputs": [
    {
     "data": {
      "text/plain": [
       "Text(0.5, 1.0, 'Information on Payment mode')"
      ]
     },
     "execution_count": 104,
     "metadata": {},
     "output_type": "execute_result"
    },
    {
     "data": {
      "image/png": "[encoded data removed]",
      "text/plain": [
       "<Figure size 432x288 with 1 Axes>"
      ]
     },
     "metadata": {},
     "output_type": "display_data"
    }
   ],
   "source": [
    "\n",
    "df.Payment_Mode.value_counts().plot.pie(explode=[0,0.25], autopct='%1.2f%%', shadow=True, colors=color, \n",
    "                                          )\n",
    "plt.title(\"Information on Payment mode\")"
   ]
  },
  {
   "cell_type": "markdown",
   "id": "c0886bb7",
   "metadata": {},
   "source": [
    "#### People prefer carb payment then cash"
   ]
  },
  {
   "cell_type": "code",
   "execution_count": null,
   "id": "796e999d",
   "metadata": {},
   "outputs": [],
   "source": []
  },
  {
   "cell_type": "code",
   "execution_count": 34,
   "id": "95e0b658",
   "metadata": {
    "scrolled": true
   },
   "outputs": [
    {
     "data": {
      "text/plain": [
       "Text(0.5, 1.0, 'Average profit of cab companies')"
      ]
     },
     "execution_count": 34,
     "metadata": {},
     "output_type": "execute_result"
    },
    {
     "data": {
      "image/png": "[encoded data removed]",
      "text/plain": [
       "<Figure size 432x288 with 1 Axes>"
      ]
     },
     "metadata": {
      "needs_background": "light"
     },
     "output_type": "display_data"
    }
   ],
   "source": [
    "df.groupby('Company')['Profit'].mean().plot(kind='bar',color=[\"#FF1493\",\"#E3CF57\"])\n",
    "plt.title(\"Average profit of cab companies\")"
   ]
  },
  {
   "cell_type": "markdown",
   "id": "99f806d7",
   "metadata": {},
   "source": [
    "#### Average profit of yellow cabs is more then pink cabs"
   ]
  },
  {
   "cell_type": "code",
   "execution_count": 35,
   "id": "5ac83c50",
   "metadata": {},
   "outputs": [],
   "source": [
    "df.rename(columns = {'Transaction ID':'Transaction_ID',\"KM Travelled\":\"KM_Travelled\",\"Cost of Trip\":\"Cost_of_Trip\",\"Income (USD/Month)\":\"Income_(USD/Month)\"}, inplace = True)"
   ]
  },
  {
   "cell_type": "code",
   "execution_count": 36,
   "id": "4c75ac4c",
   "metadata": {},
   "outputs": [
    {
     "data": {
      "text/html": [
       "<div>\n",
       "<style scoped>\n",
       "    .dataframe tbody tr th:only-of-type {\n",
       "        vertical-align: middle;\n",
       "    }\n",
       "\n",
       "    .dataframe tbody tr th {\n",
       "        vertical-align: top;\n",
       "    }\n",
       "\n",
       "    .dataframe thead th {\n",
       "        text-align: right;\n",
       "    }\n",
       "</style>\n",
       "<table border=\"1\" class=\"dataframe\">\n",
       "  <thead>\n",
       "    <tr style=\"text-align: right;\">\n",
       "      <th></th>\n",
       "      <th>Customer ID</th>\n",
       "      <th>Gender</th>\n",
       "      <th>Age</th>\n",
       "      <th>Income_(USD/Month)</th>\n",
       "      <th>Transaction_ID</th>\n",
       "      <th>Payment_Mode</th>\n",
       "      <th>Date of Travel</th>\n",
       "      <th>Company</th>\n",
       "      <th>City</th>\n",
       "      <th>KM_Travelled</th>\n",
       "      <th>Price Charged</th>\n",
       "      <th>Cost_of_Trip</th>\n",
       "      <th>Year</th>\n",
       "      <th>Month</th>\n",
       "      <th>Population</th>\n",
       "      <th>Users</th>\n",
       "      <th>Profit</th>\n",
       "    </tr>\n",
       "  </thead>\n",
       "  <tbody>\n",
       "    <tr>\n",
       "      <th>0</th>\n",
       "      <td>29290</td>\n",
       "      <td>Male</td>\n",
       "      <td>28</td>\n",
       "      <td>10813</td>\n",
       "      <td>10000011</td>\n",
       "      <td>Card</td>\n",
       "      <td>08-01-2016</td>\n",
       "      <td>Pink Cab</td>\n",
       "      <td>ATLANTA GA</td>\n",
       "      <td>30.45</td>\n",
       "      <td>370.95</td>\n",
       "      <td>313.6350</td>\n",
       "      <td>2016</td>\n",
       "      <td>1</td>\n",
       "      <td>814,885</td>\n",
       "      <td>24,701</td>\n",
       "      <td>57.3150</td>\n",
       "    </tr>\n",
       "    <tr>\n",
       "      <th>1</th>\n",
       "      <td>29290</td>\n",
       "      <td>Male</td>\n",
       "      <td>28</td>\n",
       "      <td>10813</td>\n",
       "      <td>10351127</td>\n",
       "      <td>Cash</td>\n",
       "      <td>21-07-2018</td>\n",
       "      <td>Yellow Cab</td>\n",
       "      <td>ATLANTA GA</td>\n",
       "      <td>26.19</td>\n",
       "      <td>598.70</td>\n",
       "      <td>317.4228</td>\n",
       "      <td>2018</td>\n",
       "      <td>7</td>\n",
       "      <td>814,885</td>\n",
       "      <td>24,701</td>\n",
       "      <td>281.2772</td>\n",
       "    </tr>\n",
       "    <tr>\n",
       "      <th>2</th>\n",
       "      <td>29290</td>\n",
       "      <td>Male</td>\n",
       "      <td>28</td>\n",
       "      <td>10813</td>\n",
       "      <td>10412921</td>\n",
       "      <td>Card</td>\n",
       "      <td>23-11-2018</td>\n",
       "      <td>Yellow Cab</td>\n",
       "      <td>ATLANTA GA</td>\n",
       "      <td>42.55</td>\n",
       "      <td>792.05</td>\n",
       "      <td>597.4020</td>\n",
       "      <td>2018</td>\n",
       "      <td>11</td>\n",
       "      <td>814,885</td>\n",
       "      <td>24,701</td>\n",
       "      <td>194.6480</td>\n",
       "    </tr>\n",
       "    <tr>\n",
       "      <th>3</th>\n",
       "      <td>27703</td>\n",
       "      <td>Male</td>\n",
       "      <td>27</td>\n",
       "      <td>9237</td>\n",
       "      <td>10000012</td>\n",
       "      <td>Card</td>\n",
       "      <td>06-01-2016</td>\n",
       "      <td>Pink Cab</td>\n",
       "      <td>ATLANTA GA</td>\n",
       "      <td>28.62</td>\n",
       "      <td>358.52</td>\n",
       "      <td>334.8540</td>\n",
       "      <td>2016</td>\n",
       "      <td>1</td>\n",
       "      <td>814,885</td>\n",
       "      <td>24,701</td>\n",
       "      <td>23.6660</td>\n",
       "    </tr>\n",
       "    <tr>\n",
       "      <th>4</th>\n",
       "      <td>27703</td>\n",
       "      <td>Male</td>\n",
       "      <td>27</td>\n",
       "      <td>9237</td>\n",
       "      <td>10320494</td>\n",
       "      <td>Card</td>\n",
       "      <td>21-04-2018</td>\n",
       "      <td>Yellow Cab</td>\n",
       "      <td>ATLANTA GA</td>\n",
       "      <td>36.38</td>\n",
       "      <td>721.10</td>\n",
       "      <td>467.1192</td>\n",
       "      <td>2018</td>\n",
       "      <td>4</td>\n",
       "      <td>814,885</td>\n",
       "      <td>24,701</td>\n",
       "      <td>253.9808</td>\n",
       "    </tr>\n",
       "  </tbody>\n",
       "</table>\n",
       "</div>"
      ],
      "text/plain": [
       "   Customer ID Gender  Age  Income_(USD/Month)  Transaction_ID Payment_Mode  \\\n",
       "0        29290   Male   28               10813        10000011         Card   \n",
       "1        29290   Male   28               10813        10351127         Cash   \n",
       "2        29290   Male   28               10813        10412921         Card   \n",
       "3        27703   Male   27                9237        10000012         Card   \n",
       "4        27703   Male   27                9237        10320494         Card   \n",
       "\n",
       "  Date of Travel     Company        City  KM_Travelled  Price Charged  \\\n",
       "0     08-01-2016    Pink Cab  ATLANTA GA         30.45         370.95   \n",
       "1     21-07-2018  Yellow Cab  ATLANTA GA         26.19         598.70   \n",
       "2     23-11-2018  Yellow Cab  ATLANTA GA         42.55         792.05   \n",
       "3     06-01-2016    Pink Cab  ATLANTA GA         28.62         358.52   \n",
       "4     21-04-2018  Yellow Cab  ATLANTA GA         36.38         721.10   \n",
       "\n",
       "   Cost_of_Trip  Year  Month Population     Users    Profit  \n",
       "0      313.6350  2016      1   814,885    24,701    57.3150  \n",
       "1      317.4228  2018      7   814,885    24,701   281.2772  \n",
       "2      597.4020  2018     11   814,885    24,701   194.6480  \n",
       "3      334.8540  2016      1   814,885    24,701    23.6660  \n",
       "4      467.1192  2018      4   814,885    24,701   253.9808  "
      ]
     },
     "execution_count": 36,
     "metadata": {},
     "output_type": "execute_result"
    }
   ],
   "source": [
    "df.head()"
   ]
  },
  {
   "cell_type": "code",
   "execution_count": 37,
   "id": "47af3dc7",
   "metadata": {},
   "outputs": [],
   "source": [
    "plot2 = df.groupby(['Month']).Transaction_ID.count()\n"
   ]
  },
  {
   "cell_type": "code",
   "execution_count": 38,
   "id": "13584631",
   "metadata": {},
   "outputs": [
    {
     "data": {
      "image/png": "[encoded data removed]",
      "text/plain": [
       "<Figure size 1008x432 with 1 Axes>"
      ]
     },
     "metadata": {
      "needs_background": "light"
     },
     "output_type": "display_data"
    }
   ],
   "source": [
    "plt.figure(figsize=(14,6))\n",
    "sns.barplot(x=plot2.index,y=plot2.values)\n",
    "plt.title('Travel frequency by date')\n",
    "plt.show()"
   ]
  },
  {
   "cell_type": "markdown",
   "id": "fd6537c0",
   "metadata": {},
   "source": [
    "#### In holiday season there are more number of rides"
   ]
  },
  {
   "cell_type": "code",
   "execution_count": 81,
   "id": "d8e37fdb",
   "metadata": {},
   "outputs": [
    {
     "data": {
      "text/plain": [
       "Text(0.5, 1.0, 'Yearly Average Transaction of Cab Companies')"
      ]
     },
     "execution_count": 81,
     "metadata": {},
     "output_type": "execute_result"
    },
    {
     "data": {
      "image/png": "[encoded data removed]",
      "text/plain": [
       "<Figure size 432x288 with 1 Axes>"
      ]
     },
     "metadata": {
      "needs_background": "light"
     },
     "output_type": "display_data"
    }
   ],
   "source": [
    "df.groupby(['Year','Company']).Transaction_ID.mean().plot(kind='bar',color=[\"#FF1493\",\"#E3CF57\"])\n",
    "plt.title('Yearly Average Transaction of Cab Companies')"
   ]
  },
  {
   "cell_type": "code",
   "execution_count": 39,
   "id": "663760b3",
   "metadata": {},
   "outputs": [],
   "source": [
    "\n",
    "PinkCab = df[df['Company']=='Pink Cab']\n",
    "YellowCab = df[df['Company']=='Yellow Cab']"
   ]
  },
  {
   "cell_type": "code",
   "execution_count": 54,
   "id": "7cd8f271",
   "metadata": {
    "scrolled": true
   },
   "outputs": [
    {
     "data": {
      "text/plain": [
       "Month\n",
       "1      5057\n",
       "2      3375\n",
       "3      4223\n",
       "4      4083\n",
       "5      4960\n",
       "6      5877\n",
       "7      6590\n",
       "8      7739\n",
       "9      9658\n",
       "10    10576\n",
       "11    11005\n",
       "12    11568\n",
       "Name: Transaction_ID, dtype: int64"
      ]
     },
     "execution_count": 54,
     "metadata": {},
     "output_type": "execute_result"
    }
   ],
   "source": [
    "plotp"
   ]
  },
  {
   "cell_type": "code",
   "execution_count": 53,
   "id": "ff247008",
   "metadata": {},
   "outputs": [],
   "source": [
    "plotp = PinkCab.groupby(['Month']).Transaction_ID.count()\n",
    "ploty = YellowCab.groupby(['Month']).Transaction_ID.count()"
   ]
  },
  {
   "cell_type": "code",
   "execution_count": 41,
   "id": "f3969c50",
   "metadata": {
    "scrolled": true
   },
   "outputs": [
    {
     "data": {
      "image/png": "[encoded data removed]",
      "text/plain": [
       "<Figure size 1008x432 with 1 Axes>"
      ]
     },
     "metadata": {
      "needs_background": "light"
     },
     "output_type": "display_data"
    }
   ],
   "source": [
    "plt.figure(figsize=(14,6))\n",
    "sns.barplot(x=plotp.index,y=plotp.values)\n",
    "plt.title('Travel frequency by date for Pink Company')\n",
    "plt.show()"
   ]
  },
  {
   "cell_type": "markdown",
   "id": "131451b9",
   "metadata": {},
   "source": [
    "#### Travel frequency of pink cab is more th holiday season but less then yellow cab"
   ]
  },
  {
   "cell_type": "code",
   "execution_count": 79,
   "id": "5c6447ba",
   "metadata": {
    "scrolled": true
   },
   "outputs": [
    {
     "data": {
      "image/png": "[encoded data removed]",
      "text/plain": [
       "<Figure size 1008x432 with 1 Axes>"
      ]
     },
     "metadata": {
      "needs_background": "light"
     },
     "output_type": "display_data"
    }
   ],
   "source": [
    "plt.figure(figsize=(14,6))\n",
    "sns.barplot(x=ploty.index,y=ploty.values)\n",
    "plt.title('Travel frequency by date for Yellow Company')\n",
    "plt.show()"
   ]
  },
  {
   "cell_type": "markdown",
   "id": "334adf3e",
   "metadata": {},
   "source": [
    "#### Travel frequency of pink cab is more th holiday season but less then pink cab"
   ]
  },
  {
   "cell_type": "code",
   "execution_count": 106,
   "id": "d4df12e9",
   "metadata": {},
   "outputs": [
    {
     "data": {
      "text/plain": [
       "Text(0.5, 1.0, 'Analysis with Gender')"
      ]
     },
     "execution_count": 106,
     "metadata": {},
     "output_type": "execute_result"
    },
    {
     "data": {
      "image/png": "[encoded data removed]",
      "text/plain": [
       "<Figure size 432x288 with 1 Axes>"
      ]
     },
     "metadata": {
      "needs_background": "light"
     },
     "output_type": "display_data"
    }
   ],
   "source": [
    "sns.countplot(x ='Company', hue = \"Gender\", data = df)\n",
    "\n",
    "plt.title(\"Analysis with Gender\")"
   ]
  },
  {
   "cell_type": "markdown",
   "id": "4e5f921b",
   "metadata": {},
   "source": [
    "#### Both the campany have male customers more than female customers"
   ]
  },
  {
   "cell_type": "code",
   "execution_count": 46,
   "id": "954af7ef",
   "metadata": {},
   "outputs": [
    {
     "data": {
      "text/plain": [
       "<matplotlib.legend.Legend at 0x1b29f53f8e0>"
      ]
     },
     "execution_count": 46,
     "metadata": {},
     "output_type": "execute_result"
    },
    {
     "data": {
      "image/png": "[encoded data removed]",
      "text/plain": [
       "<Figure size 2376x648 with 1 Axes>"
      ]
     },
     "metadata": {
      "needs_background": "light"
     },
     "output_type": "display_data"
    }
   ],
   "source": [
    "plt.figure(figsize=(33,9))\n",
    "\n",
    "fig=YellowCab.groupby('Year')['Profit'].mean().plot.line(color = '#E3CF57',label='Yellow Cab Company',linewidth=3, marker='o')\n",
    "fig=PinkCab.groupby('Year')['Profit'].mean().plot.line(color = '#FF1493',label='Pink Cab Company',linewidth=3, marker='o')\n",
    "plt.ylabel('Average Profit [Millions]', fontsize=16)\n",
    "plt.title('Average Annual Profits',fontsize=20)\n",
    "plt.xlabel('Year')\n",
    "\n",
    "plt.legend(loc='best', shadow=True)\n",
    "\n"
   ]
  },
  {
   "cell_type": "markdown",
   "id": "0028e884",
   "metadata": {},
   "source": [
    "#### Average annul profit of yellow cabs is higher than pink cabs"
   ]
  },
  {
   "cell_type": "code",
   "execution_count": 50,
   "id": "9314e92e",
   "metadata": {
    "scrolled": true
   },
   "outputs": [
    {
     "data": {
      "text/html": [
       "<div>\n",
       "<style scoped>\n",
       "    .dataframe tbody tr th:only-of-type {\n",
       "        vertical-align: middle;\n",
       "    }\n",
       "\n",
       "    .dataframe tbody tr th {\n",
       "        vertical-align: top;\n",
       "    }\n",
       "\n",
       "    .dataframe thead th {\n",
       "        text-align: right;\n",
       "    }\n",
       "</style>\n",
       "<table border=\"1\" class=\"dataframe\">\n",
       "  <thead>\n",
       "    <tr style=\"text-align: right;\">\n",
       "      <th></th>\n",
       "      <th>Customer ID</th>\n",
       "      <th>Gender</th>\n",
       "      <th>Age</th>\n",
       "      <th>Income_(USD/Month)</th>\n",
       "      <th>Transaction_ID</th>\n",
       "      <th>Payment_Mode</th>\n",
       "      <th>Date of Travel</th>\n",
       "      <th>Company</th>\n",
       "      <th>City</th>\n",
       "      <th>KM_Travelled</th>\n",
       "      <th>Price Charged</th>\n",
       "      <th>Cost_of_Trip</th>\n",
       "      <th>Year</th>\n",
       "      <th>Month</th>\n",
       "      <th>Population</th>\n",
       "      <th>Users</th>\n",
       "      <th>Profit</th>\n",
       "    </tr>\n",
       "  </thead>\n",
       "  <tbody>\n",
       "    <tr>\n",
       "      <th>0</th>\n",
       "      <td>29290</td>\n",
       "      <td>Male</td>\n",
       "      <td>28</td>\n",
       "      <td>10813</td>\n",
       "      <td>10000011</td>\n",
       "      <td>Card</td>\n",
       "      <td>08-01-2016</td>\n",
       "      <td>Pink Cab</td>\n",
       "      <td>ATLANTA GA</td>\n",
       "      <td>30.45</td>\n",
       "      <td>370.95</td>\n",
       "      <td>313.6350</td>\n",
       "      <td>2016</td>\n",
       "      <td>1</td>\n",
       "      <td>814,885</td>\n",
       "      <td>24,701</td>\n",
       "      <td>57.3150</td>\n",
       "    </tr>\n",
       "    <tr>\n",
       "      <th>1</th>\n",
       "      <td>29290</td>\n",
       "      <td>Male</td>\n",
       "      <td>28</td>\n",
       "      <td>10813</td>\n",
       "      <td>10351127</td>\n",
       "      <td>Cash</td>\n",
       "      <td>21-07-2018</td>\n",
       "      <td>Yellow Cab</td>\n",
       "      <td>ATLANTA GA</td>\n",
       "      <td>26.19</td>\n",
       "      <td>598.70</td>\n",
       "      <td>317.4228</td>\n",
       "      <td>2018</td>\n",
       "      <td>7</td>\n",
       "      <td>814,885</td>\n",
       "      <td>24,701</td>\n",
       "      <td>281.2772</td>\n",
       "    </tr>\n",
       "    <tr>\n",
       "      <th>2</th>\n",
       "      <td>29290</td>\n",
       "      <td>Male</td>\n",
       "      <td>28</td>\n",
       "      <td>10813</td>\n",
       "      <td>10412921</td>\n",
       "      <td>Card</td>\n",
       "      <td>23-11-2018</td>\n",
       "      <td>Yellow Cab</td>\n",
       "      <td>ATLANTA GA</td>\n",
       "      <td>42.55</td>\n",
       "      <td>792.05</td>\n",
       "      <td>597.4020</td>\n",
       "      <td>2018</td>\n",
       "      <td>11</td>\n",
       "      <td>814,885</td>\n",
       "      <td>24,701</td>\n",
       "      <td>194.6480</td>\n",
       "    </tr>\n",
       "    <tr>\n",
       "      <th>3</th>\n",
       "      <td>27703</td>\n",
       "      <td>Male</td>\n",
       "      <td>27</td>\n",
       "      <td>9237</td>\n",
       "      <td>10000012</td>\n",
       "      <td>Card</td>\n",
       "      <td>06-01-2016</td>\n",
       "      <td>Pink Cab</td>\n",
       "      <td>ATLANTA GA</td>\n",
       "      <td>28.62</td>\n",
       "      <td>358.52</td>\n",
       "      <td>334.8540</td>\n",
       "      <td>2016</td>\n",
       "      <td>1</td>\n",
       "      <td>814,885</td>\n",
       "      <td>24,701</td>\n",
       "      <td>23.6660</td>\n",
       "    </tr>\n",
       "    <tr>\n",
       "      <th>4</th>\n",
       "      <td>27703</td>\n",
       "      <td>Male</td>\n",
       "      <td>27</td>\n",
       "      <td>9237</td>\n",
       "      <td>10320494</td>\n",
       "      <td>Card</td>\n",
       "      <td>21-04-2018</td>\n",
       "      <td>Yellow Cab</td>\n",
       "      <td>ATLANTA GA</td>\n",
       "      <td>36.38</td>\n",
       "      <td>721.10</td>\n",
       "      <td>467.1192</td>\n",
       "      <td>2018</td>\n",
       "      <td>4</td>\n",
       "      <td>814,885</td>\n",
       "      <td>24,701</td>\n",
       "      <td>253.9808</td>\n",
       "    </tr>\n",
       "  </tbody>\n",
       "</table>\n",
       "</div>"
      ],
      "text/plain": [
       "   Customer ID Gender  Age  Income_(USD/Month)  Transaction_ID Payment_Mode  \\\n",
       "0        29290   Male   28               10813        10000011         Card   \n",
       "1        29290   Male   28               10813        10351127         Cash   \n",
       "2        29290   Male   28               10813        10412921         Card   \n",
       "3        27703   Male   27                9237        10000012         Card   \n",
       "4        27703   Male   27                9237        10320494         Card   \n",
       "\n",
       "  Date of Travel     Company        City  KM_Travelled  Price Charged  \\\n",
       "0     08-01-2016    Pink Cab  ATLANTA GA         30.45         370.95   \n",
       "1     21-07-2018  Yellow Cab  ATLANTA GA         26.19         598.70   \n",
       "2     23-11-2018  Yellow Cab  ATLANTA GA         42.55         792.05   \n",
       "3     06-01-2016    Pink Cab  ATLANTA GA         28.62         358.52   \n",
       "4     21-04-2018  Yellow Cab  ATLANTA GA         36.38         721.10   \n",
       "\n",
       "   Cost_of_Trip  Year  Month Population     Users    Profit  \n",
       "0      313.6350  2016      1   814,885    24,701    57.3150  \n",
       "1      317.4228  2018      7   814,885    24,701   281.2772  \n",
       "2      597.4020  2018     11   814,885    24,701   194.6480  \n",
       "3      334.8540  2016      1   814,885    24,701    23.6660  \n",
       "4      467.1192  2018      4   814,885    24,701   253.9808  "
      ]
     },
     "execution_count": 50,
     "metadata": {},
     "output_type": "execute_result"
    }
   ],
   "source": [
    "df.head()"
   ]
  },
  {
   "cell_type": "code",
   "execution_count": null,
   "id": "11a0fb12",
   "metadata": {},
   "outputs": [],
   "source": [
    "color=[\"#E3CF57\",\"#FF1493\"]"
   ]
  },
  {
   "cell_type": "code",
   "execution_count": 56,
   "id": "c52e1b4c",
   "metadata": {},
   "outputs": [
    {
     "data": {
      "text/plain": [
       "Month\n",
       "1      5057\n",
       "2      3375\n",
       "3      4223\n",
       "4      4083\n",
       "5      4960\n",
       "6      5877\n",
       "7      6590\n",
       "8      7739\n",
       "9      9658\n",
       "10    10576\n",
       "11    11005\n",
       "12    11568\n",
       "Name: KM_Travelled, dtype: int64"
      ]
     },
     "execution_count": 56,
     "metadata": {},
     "output_type": "execute_result"
    }
   ],
   "source": [
    "plot7 = df[df.Company=='Pink Cab'].groupby('Month').KM_Travelled.count()\n",
    "plot7"
   ]
  },
  {
   "cell_type": "code",
   "execution_count": 57,
   "id": "fce9e556",
   "metadata": {},
   "outputs": [
    {
     "data": {
      "text/plain": [
       "Month\n",
       "1     18117\n",
       "2     14932\n",
       "3     17423\n",
       "4     17351\n",
       "5     18741\n",
       "6     18836\n",
       "7     21086\n",
       "8     23584\n",
       "9     27201\n",
       "10    30276\n",
       "11    31695\n",
       "12    35439\n",
       "Name: KM_Travelled, dtype: int64"
      ]
     },
     "execution_count": 57,
     "metadata": {},
     "output_type": "execute_result"
    }
   ],
   "source": [
    "plot8 = df[df.Company=='Yellow Cab'].groupby('Month').KM_Travelled.count()\n",
    "plot8"
   ]
  },
  {
   "cell_type": "code",
   "execution_count": 58,
   "id": "440d9fff",
   "metadata": {},
   "outputs": [
    {
     "data": {
      "text/html": [
       "<div>\n",
       "<style scoped>\n",
       "    .dataframe tbody tr th:only-of-type {\n",
       "        vertical-align: middle;\n",
       "    }\n",
       "\n",
       "    .dataframe tbody tr th {\n",
       "        vertical-align: top;\n",
       "    }\n",
       "\n",
       "    .dataframe thead th {\n",
       "        text-align: right;\n",
       "    }\n",
       "</style>\n",
       "<table border=\"1\" class=\"dataframe\">\n",
       "  <thead>\n",
       "    <tr style=\"text-align: right;\">\n",
       "      <th></th>\n",
       "      <th>Customer ID</th>\n",
       "      <th>Gender</th>\n",
       "      <th>Age</th>\n",
       "      <th>Income_(USD/Month)</th>\n",
       "      <th>Transaction_ID</th>\n",
       "      <th>Payment_Mode</th>\n",
       "      <th>Date of Travel</th>\n",
       "      <th>Company</th>\n",
       "      <th>City</th>\n",
       "      <th>KM_Travelled</th>\n",
       "      <th>Price Charged</th>\n",
       "      <th>Cost_of_Trip</th>\n",
       "      <th>Year</th>\n",
       "      <th>Month</th>\n",
       "      <th>Population</th>\n",
       "      <th>Users</th>\n",
       "      <th>Profit</th>\n",
       "    </tr>\n",
       "  </thead>\n",
       "  <tbody>\n",
       "    <tr>\n",
       "      <th>0</th>\n",
       "      <td>29290</td>\n",
       "      <td>Male</td>\n",
       "      <td>28</td>\n",
       "      <td>10813</td>\n",
       "      <td>10000011</td>\n",
       "      <td>Card</td>\n",
       "      <td>08-01-2016</td>\n",
       "      <td>Pink Cab</td>\n",
       "      <td>ATLANTA GA</td>\n",
       "      <td>30.45</td>\n",
       "      <td>370.95</td>\n",
       "      <td>313.6350</td>\n",
       "      <td>2016</td>\n",
       "      <td>1</td>\n",
       "      <td>814,885</td>\n",
       "      <td>24,701</td>\n",
       "      <td>57.3150</td>\n",
       "    </tr>\n",
       "    <tr>\n",
       "      <th>1</th>\n",
       "      <td>29290</td>\n",
       "      <td>Male</td>\n",
       "      <td>28</td>\n",
       "      <td>10813</td>\n",
       "      <td>10351127</td>\n",
       "      <td>Cash</td>\n",
       "      <td>21-07-2018</td>\n",
       "      <td>Yellow Cab</td>\n",
       "      <td>ATLANTA GA</td>\n",
       "      <td>26.19</td>\n",
       "      <td>598.70</td>\n",
       "      <td>317.4228</td>\n",
       "      <td>2018</td>\n",
       "      <td>7</td>\n",
       "      <td>814,885</td>\n",
       "      <td>24,701</td>\n",
       "      <td>281.2772</td>\n",
       "    </tr>\n",
       "  </tbody>\n",
       "</table>\n",
       "</div>"
      ],
      "text/plain": [
       "   Customer ID Gender  Age  Income_(USD/Month)  Transaction_ID Payment_Mode  \\\n",
       "0        29290   Male   28               10813        10000011         Card   \n",
       "1        29290   Male   28               10813        10351127         Cash   \n",
       "\n",
       "  Date of Travel     Company        City  KM_Travelled  Price Charged  \\\n",
       "0     08-01-2016    Pink Cab  ATLANTA GA         30.45         370.95   \n",
       "1     21-07-2018  Yellow Cab  ATLANTA GA         26.19         598.70   \n",
       "\n",
       "   Cost_of_Trip  Year  Month Population     Users    Profit  \n",
       "0      313.6350  2016      1   814,885    24,701    57.3150  \n",
       "1      317.4228  2018      7   814,885    24,701   281.2772  "
      ]
     },
     "execution_count": 58,
     "metadata": {},
     "output_type": "execute_result"
    }
   ],
   "source": [
    "df.head(2)"
   ]
  },
  {
   "cell_type": "code",
   "execution_count": null,
   "id": "a690db98",
   "metadata": {},
   "outputs": [],
   "source": []
  },
  {
   "cell_type": "code",
   "execution_count": null,
   "id": "1f74b491",
   "metadata": {},
   "outputs": [],
   "source": []
  },
  {
   "cell_type": "code",
   "execution_count": null,
   "id": "7b2c6de4",
   "metadata": {},
   "outputs": [],
   "source": []
  },
  {
   "cell_type": "code",
   "execution_count": 107,
   "id": "ea9732ba",
   "metadata": {
    "scrolled": true
   },
   "outputs": [
    {
     "data": {
      "image/png": "[encoded data removed]",
      "text/plain": [
       "<Figure size 1008x432 with 1 Axes>"
      ]
     },
     "metadata": {
      "needs_background": "light"
     },
     "output_type": "display_data"
    }
   ],
   "source": [
    "plt.figure(figsize=(14,6))\n",
    "ax = plt.subplot(111)\n",
    "ax.bar(plot7.index-0.2, plot7.values, width=0.4, color='#FF1493', align='center',label='Pink Cab')\n",
    "ax.bar(plot7.index+0.2, plot8.values, width=0.4, color='#E3CF57', align='center',label='Yellow Cab')\n",
    "plt.ylabel('KM Travelled')\n",
    "plt.xlabel('Month')\n",
    "plt.legend()\n",
    "plt.title(\"KM Travelled \")\n",
    "plt.show()\n",
    " "
   ]
  },
  {
   "cell_type": "markdown",
   "id": "55badfba",
   "metadata": {},
   "source": [
    "#### Every Month yellow car has more KM travalled then yellow cabs"
   ]
  },
  {
   "cell_type": "code",
   "execution_count": 83,
   "id": "eb767265",
   "metadata": {},
   "outputs": [
    {
     "data": {
      "text/plain": [
       "<matplotlib.legend.Legend at 0x2988ecc58e0>"
      ]
     },
     "execution_count": 83,
     "metadata": {},
     "output_type": "execute_result"
    },
    {
     "data": {
      "image/png": "[encoded data removed]",
      "text/plain": [
       "<Figure size 2376x648 with 1 Axes>"
      ]
     },
     "metadata": {
      "needs_background": "light"
     },
     "output_type": "display_data"
    }
   ],
   "source": [
    "plt.figure(figsize=(33,9))\n",
    "\n",
    "fig= YellowCab.groupby('Month')['Profit'].mean().plot.line(color = '#E3CF57',label='Yellow Cab Company',linewidth=3, marker ='o')\n",
    "fig=PinkCab.groupby('Month')['Profit'].mean().plot.line(color = '#FF1493',label='Pink Cab Company',linewidth=3, marker='o')\n",
    "plt.ylabel('Average Profit [Millions]', fontsize=16)\n",
    "plt.title('Average Monthly Profits',fontsize=20)\n",
    "plt.xlabel('Month')\n",
    "\n",
    "plt.legend(loc='best', shadow=True)"
   ]
  },
  {
   "cell_type": "markdown",
   "id": "1f94bce6",
   "metadata": {},
   "source": [
    "#### Month wise also yellow cab has more Average Monthly Profit then pink cabs and in 5th month profit of pink cab is lowest and yellow can is highest"
   ]
  },
  {
   "cell_type": "code",
   "execution_count": 47,
   "id": "9675a5de",
   "metadata": {},
   "outputs": [
    {
     "data": {
      "text/html": [
       "<div>\n",
       "<style scoped>\n",
       "    .dataframe tbody tr th:only-of-type {\n",
       "        vertical-align: middle;\n",
       "    }\n",
       "\n",
       "    .dataframe tbody tr th {\n",
       "        vertical-align: top;\n",
       "    }\n",
       "\n",
       "    .dataframe thead th {\n",
       "        text-align: right;\n",
       "    }\n",
       "</style>\n",
       "<table border=\"1\" class=\"dataframe\">\n",
       "  <thead>\n",
       "    <tr style=\"text-align: right;\">\n",
       "      <th></th>\n",
       "      <th>Customer ID</th>\n",
       "      <th>Gender</th>\n",
       "      <th>Age</th>\n",
       "      <th>Income_(USD/Month)</th>\n",
       "      <th>Transaction_ID</th>\n",
       "      <th>Payment_Mode</th>\n",
       "      <th>Date of Travel</th>\n",
       "      <th>Company</th>\n",
       "      <th>City</th>\n",
       "      <th>KM_Travelled</th>\n",
       "      <th>Price Charged</th>\n",
       "      <th>Cost_of_Trip</th>\n",
       "      <th>Year</th>\n",
       "      <th>Month</th>\n",
       "      <th>Population</th>\n",
       "      <th>Users</th>\n",
       "      <th>Profit</th>\n",
       "    </tr>\n",
       "  </thead>\n",
       "  <tbody>\n",
       "    <tr>\n",
       "      <th>0</th>\n",
       "      <td>29290</td>\n",
       "      <td>Male</td>\n",
       "      <td>28</td>\n",
       "      <td>10813</td>\n",
       "      <td>10000011</td>\n",
       "      <td>Card</td>\n",
       "      <td>08-01-2016</td>\n",
       "      <td>Pink Cab</td>\n",
       "      <td>ATLANTA GA</td>\n",
       "      <td>30.45</td>\n",
       "      <td>370.95</td>\n",
       "      <td>313.6350</td>\n",
       "      <td>2016</td>\n",
       "      <td>1</td>\n",
       "      <td>814,885</td>\n",
       "      <td>24,701</td>\n",
       "      <td>57.3150</td>\n",
       "    </tr>\n",
       "    <tr>\n",
       "      <th>1</th>\n",
       "      <td>29290</td>\n",
       "      <td>Male</td>\n",
       "      <td>28</td>\n",
       "      <td>10813</td>\n",
       "      <td>10351127</td>\n",
       "      <td>Cash</td>\n",
       "      <td>21-07-2018</td>\n",
       "      <td>Yellow Cab</td>\n",
       "      <td>ATLANTA GA</td>\n",
       "      <td>26.19</td>\n",
       "      <td>598.70</td>\n",
       "      <td>317.4228</td>\n",
       "      <td>2018</td>\n",
       "      <td>7</td>\n",
       "      <td>814,885</td>\n",
       "      <td>24,701</td>\n",
       "      <td>281.2772</td>\n",
       "    </tr>\n",
       "    <tr>\n",
       "      <th>2</th>\n",
       "      <td>29290</td>\n",
       "      <td>Male</td>\n",
       "      <td>28</td>\n",
       "      <td>10813</td>\n",
       "      <td>10412921</td>\n",
       "      <td>Card</td>\n",
       "      <td>23-11-2018</td>\n",
       "      <td>Yellow Cab</td>\n",
       "      <td>ATLANTA GA</td>\n",
       "      <td>42.55</td>\n",
       "      <td>792.05</td>\n",
       "      <td>597.4020</td>\n",
       "      <td>2018</td>\n",
       "      <td>11</td>\n",
       "      <td>814,885</td>\n",
       "      <td>24,701</td>\n",
       "      <td>194.6480</td>\n",
       "    </tr>\n",
       "    <tr>\n",
       "      <th>3</th>\n",
       "      <td>27703</td>\n",
       "      <td>Male</td>\n",
       "      <td>27</td>\n",
       "      <td>9237</td>\n",
       "      <td>10000012</td>\n",
       "      <td>Card</td>\n",
       "      <td>06-01-2016</td>\n",
       "      <td>Pink Cab</td>\n",
       "      <td>ATLANTA GA</td>\n",
       "      <td>28.62</td>\n",
       "      <td>358.52</td>\n",
       "      <td>334.8540</td>\n",
       "      <td>2016</td>\n",
       "      <td>1</td>\n",
       "      <td>814,885</td>\n",
       "      <td>24,701</td>\n",
       "      <td>23.6660</td>\n",
       "    </tr>\n",
       "    <tr>\n",
       "      <th>4</th>\n",
       "      <td>27703</td>\n",
       "      <td>Male</td>\n",
       "      <td>27</td>\n",
       "      <td>9237</td>\n",
       "      <td>10320494</td>\n",
       "      <td>Card</td>\n",
       "      <td>21-04-2018</td>\n",
       "      <td>Yellow Cab</td>\n",
       "      <td>ATLANTA GA</td>\n",
       "      <td>36.38</td>\n",
       "      <td>721.10</td>\n",
       "      <td>467.1192</td>\n",
       "      <td>2018</td>\n",
       "      <td>4</td>\n",
       "      <td>814,885</td>\n",
       "      <td>24,701</td>\n",
       "      <td>253.9808</td>\n",
       "    </tr>\n",
       "  </tbody>\n",
       "</table>\n",
       "</div>"
      ],
      "text/plain": [
       "   Customer ID Gender  Age  Income_(USD/Month)  Transaction_ID Payment_Mode  \\\n",
       "0        29290   Male   28               10813        10000011         Card   \n",
       "1        29290   Male   28               10813        10351127         Cash   \n",
       "2        29290   Male   28               10813        10412921         Card   \n",
       "3        27703   Male   27                9237        10000012         Card   \n",
       "4        27703   Male   27                9237        10320494         Card   \n",
       "\n",
       "  Date of Travel     Company        City  KM_Travelled  Price Charged  \\\n",
       "0     08-01-2016    Pink Cab  ATLANTA GA         30.45         370.95   \n",
       "1     21-07-2018  Yellow Cab  ATLANTA GA         26.19         598.70   \n",
       "2     23-11-2018  Yellow Cab  ATLANTA GA         42.55         792.05   \n",
       "3     06-01-2016    Pink Cab  ATLANTA GA         28.62         358.52   \n",
       "4     21-04-2018  Yellow Cab  ATLANTA GA         36.38         721.10   \n",
       "\n",
       "   Cost_of_Trip  Year  Month Population     Users    Profit  \n",
       "0      313.6350  2016      1   814,885    24,701    57.3150  \n",
       "1      317.4228  2018      7   814,885    24,701   281.2772  \n",
       "2      597.4020  2018     11   814,885    24,701   194.6480  \n",
       "3      334.8540  2016      1   814,885    24,701    23.6660  \n",
       "4      467.1192  2018      4   814,885    24,701   253.9808  "
      ]
     },
     "execution_count": 47,
     "metadata": {},
     "output_type": "execute_result"
    }
   ],
   "source": [
    "df.head()"
   ]
  },
  {
   "cell_type": "code",
   "execution_count": 64,
   "id": "8138d472",
   "metadata": {},
   "outputs": [],
   "source": [
    "plotpp = df[df.Company=='Pink Cab'].groupby('City').KM_Travelled.count()\n",
    "plotyy = df[df.Company=='Yellow Cab'].groupby('City').KM_Travelled.count()"
   ]
  },
  {
   "cell_type": "code",
   "execution_count": 82,
   "id": "e8ea26c0",
   "metadata": {},
   "outputs": [
    {
     "data": {
      "text/html": [
       "<div>\n",
       "<style scoped>\n",
       "    .dataframe tbody tr th:only-of-type {\n",
       "        vertical-align: middle;\n",
       "    }\n",
       "\n",
       "    .dataframe tbody tr th {\n",
       "        vertical-align: top;\n",
       "    }\n",
       "\n",
       "    .dataframe thead th {\n",
       "        text-align: right;\n",
       "    }\n",
       "</style>\n",
       "<table border=\"1\" class=\"dataframe\">\n",
       "  <thead>\n",
       "    <tr style=\"text-align: right;\">\n",
       "      <th></th>\n",
       "      <th>Customer ID</th>\n",
       "      <th>Gender</th>\n",
       "      <th>Age</th>\n",
       "      <th>Income_(USD/Month)</th>\n",
       "      <th>Transaction_ID</th>\n",
       "      <th>Payment_Mode</th>\n",
       "      <th>Date of Travel</th>\n",
       "      <th>Company</th>\n",
       "      <th>City</th>\n",
       "      <th>KM_Travelled</th>\n",
       "      <th>Price Charged</th>\n",
       "      <th>Cost_of_Trip</th>\n",
       "      <th>Year</th>\n",
       "      <th>Month</th>\n",
       "      <th>Population</th>\n",
       "      <th>Users</th>\n",
       "      <th>Profit</th>\n",
       "    </tr>\n",
       "  </thead>\n",
       "  <tbody>\n",
       "    <tr>\n",
       "      <th>123876</th>\n",
       "      <td>19589</td>\n",
       "      <td>Male</td>\n",
       "      <td>38</td>\n",
       "      <td>24657</td>\n",
       "      <td>10249548</td>\n",
       "      <td>Cash</td>\n",
       "      <td>03-11-2017</td>\n",
       "      <td>Pink Cab</td>\n",
       "      <td>SAN DIEGO CA</td>\n",
       "      <td>41.34</td>\n",
       "      <td>580.69</td>\n",
       "      <td>475.410</td>\n",
       "      <td>2017</td>\n",
       "      <td>11</td>\n",
       "      <td>959,307</td>\n",
       "      <td>69,995</td>\n",
       "      <td>105.280</td>\n",
       "    </tr>\n",
       "    <tr>\n",
       "      <th>227813</th>\n",
       "      <td>18748</td>\n",
       "      <td>Female</td>\n",
       "      <td>18</td>\n",
       "      <td>5055</td>\n",
       "      <td>10229848</td>\n",
       "      <td>Card</td>\n",
       "      <td>27-09-2017</td>\n",
       "      <td>Pink Cab</td>\n",
       "      <td>SAN DIEGO CA</td>\n",
       "      <td>41.44</td>\n",
       "      <td>547.35</td>\n",
       "      <td>480.704</td>\n",
       "      <td>2017</td>\n",
       "      <td>9</td>\n",
       "      <td>959,307</td>\n",
       "      <td>69,995</td>\n",
       "      <td>66.646</td>\n",
       "    </tr>\n",
       "    <tr>\n",
       "      <th>282483</th>\n",
       "      <td>19198</td>\n",
       "      <td>Male</td>\n",
       "      <td>47</td>\n",
       "      <td>7568</td>\n",
       "      <td>10124718</td>\n",
       "      <td>Cash</td>\n",
       "      <td>22-12-2016</td>\n",
       "      <td>Pink Cab</td>\n",
       "      <td>SAN DIEGO CA</td>\n",
       "      <td>2.32</td>\n",
       "      <td>31.18</td>\n",
       "      <td>24.360</td>\n",
       "      <td>2016</td>\n",
       "      <td>12</td>\n",
       "      <td>959,307</td>\n",
       "      <td>69,995</td>\n",
       "      <td>6.820</td>\n",
       "    </tr>\n",
       "    <tr>\n",
       "      <th>282484</th>\n",
       "      <td>19198</td>\n",
       "      <td>Male</td>\n",
       "      <td>47</td>\n",
       "      <td>7568</td>\n",
       "      <td>10176815</td>\n",
       "      <td>Card</td>\n",
       "      <td>21-05-2017</td>\n",
       "      <td>Pink Cab</td>\n",
       "      <td>SAN DIEGO CA</td>\n",
       "      <td>38.85</td>\n",
       "      <td>542.95</td>\n",
       "      <td>407.925</td>\n",
       "      <td>2017</td>\n",
       "      <td>5</td>\n",
       "      <td>959,307</td>\n",
       "      <td>69,995</td>\n",
       "      <td>135.025</td>\n",
       "    </tr>\n",
       "    <tr>\n",
       "      <th>227819</th>\n",
       "      <td>18153</td>\n",
       "      <td>Male</td>\n",
       "      <td>30</td>\n",
       "      <td>21519</td>\n",
       "      <td>10029874</td>\n",
       "      <td>Card</td>\n",
       "      <td>07-05-2016</td>\n",
       "      <td>Pink Cab</td>\n",
       "      <td>SAN DIEGO CA</td>\n",
       "      <td>32.76</td>\n",
       "      <td>469.59</td>\n",
       "      <td>353.808</td>\n",
       "      <td>2016</td>\n",
       "      <td>5</td>\n",
       "      <td>959,307</td>\n",
       "      <td>69,995</td>\n",
       "      <td>115.782</td>\n",
       "    </tr>\n",
       "  </tbody>\n",
       "</table>\n",
       "</div>"
      ],
      "text/plain": [
       "        Customer ID  Gender  Age  Income_(USD/Month)  Transaction_ID  \\\n",
       "123876        19589    Male   38               24657        10249548   \n",
       "227813        18748  Female   18                5055        10229848   \n",
       "282483        19198    Male   47                7568        10124718   \n",
       "282484        19198    Male   47                7568        10176815   \n",
       "227819        18153    Male   30               21519        10029874   \n",
       "\n",
       "       Payment_Mode Date of Travel   Company          City  KM_Travelled  \\\n",
       "123876         Cash     03-11-2017  Pink Cab  SAN DIEGO CA         41.34   \n",
       "227813         Card     27-09-2017  Pink Cab  SAN DIEGO CA         41.44   \n",
       "282483         Cash     22-12-2016  Pink Cab  SAN DIEGO CA          2.32   \n",
       "282484         Card     21-05-2017  Pink Cab  SAN DIEGO CA         38.85   \n",
       "227819         Card     07-05-2016  Pink Cab  SAN DIEGO CA         32.76   \n",
       "\n",
       "        Price Charged  Cost_of_Trip  Year  Month Population     Users   Profit  \n",
       "123876         580.69       475.410  2017     11   959,307    69,995   105.280  \n",
       "227813         547.35       480.704  2017      9   959,307    69,995    66.646  \n",
       "282483          31.18        24.360  2016     12   959,307    69,995     6.820  \n",
       "282484         542.95       407.925  2017      5   959,307    69,995   135.025  \n",
       "227819         469.59       353.808  2016      5   959,307    69,995   115.782  "
      ]
     },
     "execution_count": 82,
     "metadata": {},
     "output_type": "execute_result"
    }
   ],
   "source": [
    "datasort.head()"
   ]
  },
  {
   "cell_type": "code",
   "execution_count": 109,
   "id": "9c5cb85b",
   "metadata": {},
   "outputs": [
    {
     "data": {
      "text/plain": [
       "<AxesSubplot:title={'center':'Analysis with City'}, xlabel='City', ylabel='count'>"
      ]
     },
     "execution_count": 109,
     "metadata": {},
     "output_type": "execute_result"
    },
    {
     "data": {
      "image/png": "[encoded data removed]",
      "text/plain": [
       "<Figure size 2160x1440 with 1 Axes>"
      ]
     },
     "metadata": {
      "needs_background": "light"
     },
     "output_type": "display_data"
    }
   ],
   "source": [
    "plt.figure(figsize=(30,20))\n",
    "plt.title(\"Analysis with City\" )\n",
    "sns.countplot(x ='City', hue = \"Company\", data = datasort)"
   ]
  },
  {
   "cell_type": "markdown",
   "id": "fdc22998",
   "metadata": {},
   "source": [
    "#### In NEW YORK there are more yellow cabs and in SAN DIEGO there are more pink cabs buts this is not affected by city poplulation"
   ]
  },
  {
   "cell_type": "code",
   "execution_count": 96,
   "id": "9ca3739a",
   "metadata": {},
   "outputs": [],
   "source": [
    "df['Age_bin'] = np.nan\n",
    "\n",
    "def age(Age):\n",
    "    if Age>=18 and Age<=25:\n",
    "        return \"18-25\"\n",
    "    if  Age>=26 and Age<=40:\n",
    "         return \"26-40\"\n",
    "    if  Age>=41 and Age<=60:\n",
    "         return \"41-60\"\n",
    "    else:\n",
    "        return \"60+\"\n",
    "    \n",
    "df['Age_bin'] = df['Age'].apply(age)"
   ]
  },
  {
   "cell_type": "code",
   "execution_count": 110,
   "id": "6a148492",
   "metadata": {},
   "outputs": [
    {
     "data": {
      "text/plain": [
       "Text(0.5, 1.0, 'Analysis with Different Age group')"
      ]
     },
     "execution_count": 110,
     "metadata": {},
     "output_type": "execute_result"
    },
    {
     "data": {
      "image/png": "[encoded data removed]",
      "text/plain": [
       "<Figure size 2160x1440 with 1 Axes>"
      ]
     },
     "metadata": {
      "needs_background": "light"
     },
     "output_type": "display_data"
    }
   ],
   "source": [
    "plt.figure(figsize=(30,20))\n",
    "\n",
    "sns.countplot(x ='Age_bin', hue = \"Company\", data = df)    \n",
    "plt.title(\"Analysis with Different Age group\")"
   ]
  },
  {
   "cell_type": "markdown",
   "id": "704e4bb1",
   "metadata": {},
   "source": [
    "### People Age from 26-40 take more Cabs and in all the groups yellow taxi is prefered more"
   ]
  },
  {
   "cell_type": "markdown",
   "id": "2c025683",
   "metadata": {},
   "source": []
  }
 ],
 "metadata": {
  "kernelspec": {
   "display_name": "Python 3",
   "language": "python",
   "name": "python3"
  },
  "language_info": {
   "codemirror_mode": {
    "name": "ipython",
    "version": 3
   },
   "file_extension": ".py",
   "mimetype": "text/x-python",
   "name": "python",
   "nbconvert_exporter": "python",
   "pygments_lexer": "ipython3",
   "version": "3.8.8"
  }
 },
 "nbformat": 4,
 "nbformat_minor": 5
}
